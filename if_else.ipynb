{
 "cells": [
  {
   "cell_type": "markdown",
   "metadata": {},
   "source": [
    "## **Basic if-statement syntax**"
   ]
  },
  {
   "cell_type": "code",
   "execution_count": 4,
   "metadata": {},
   "outputs": [
    {
     "name": "stdout",
     "output_type": "stream",
     "text": [
      "After block\n"
     ]
    }
   ],
   "source": [
    "if False:\n",
    "    print(' in the block')\n",
    "\n",
    "print('After block')\n"
   ]
  },
  {
   "cell_type": "markdown",
   "metadata": {},
   "source": [
    "## **Else syntax**\n"
   ]
  },
  {
   "cell_type": "code",
   "execution_count": 5,
   "metadata": {},
   "outputs": [
    {
     "name": "stdout",
     "output_type": "stream",
     "text": [
      "LOOOZER\n"
     ]
    }
   ],
   "source": [
    "score = 1\n",
    "\n",
    "if score > 3:\n",
    "    print('you a weiner')\n",
    "\n",
    "else:\n",
    "    print('LOOOZER')"
   ]
  },
  {
   "cell_type": "markdown",
   "metadata": {},
   "source": [
    "## **Nested if -statements**"
   ]
  },
  {
   "cell_type": "code",
   "execution_count": 7,
   "metadata": {},
   "outputs": [
    {
     "name": "stdout",
     "output_type": "stream",
     "text": [
      "Count more\n"
     ]
    }
   ],
   "source": [
    "count = 2\n",
    " \n",
    "if count < 3:\n",
    "    print('Count more')\n",
    "\n",
    "else:\n",
    "    if count > 3:\n",
    "        print('Count less')"
   ]
  },
  {
   "cell_type": "markdown",
   "metadata": {},
   "source": [
    "## ** Elif syntax**"
   ]
  },
  {
   "cell_type": "code",
   "execution_count": 8,
   "metadata": {},
   "outputs": [
    {
     "name": "stdout",
     "output_type": "stream",
     "text": [
      "count more\n"
     ]
    }
   ],
   "source": [
    "count = 2\n",
    "\n",
    "if count < 3:\n",
    "    print( 'count more')\n",
    "\n",
    "elif count > 3:\n",
    "    print('Count less')\n",
    "\n",
    "elif count == 3:\n",
    "    print('yes')\n",
    "\n",
    "else: \n",
    "    print('fall through')"
   ]
  },
  {
   "cell_type": "code",
   "execution_count": 9,
   "metadata": {},
   "outputs": [
    {
     "name": "stdout",
     "output_type": "stream",
     "text": [
      "Count less\n"
     ]
    }
   ],
   "source": [
    "count = 6\n",
    "\n",
    "if count < 3:\n",
    "    print( 'count more')\n",
    "\n",
    "elif count > 3:\n",
    "    print('Count less')\n",
    "\n",
    "elif count == 3:\n",
    "    print('yes')\n",
    "\n",
    "else: \n",
    "    print('fall through')"
   ]
  },
  {
   "cell_type": "markdown",
   "metadata": {},
   "source": [
    "## ** Match statements**"
   ]
  },
  {
   "cell_type": "code",
   "execution_count": 10,
   "metadata": {},
   "outputs": [
    {
     "name": "stdout",
     "output_type": "stream",
     "text": [
      "I don't know \n"
     ]
    }
   ],
   "source": [
    "temp = 41\n",
    "\n",
    "match temp:\n",
    "    case 44: \n",
    "        print('too low')\n",
    "\n",
    "    case 50:\n",
    "        print('ok to sleep outsie')\n",
    "\n",
    "    case _:\n",
    "        print(\"I don't know \")"
   ]
  },
  {
   "cell_type": "markdown",
   "metadata": {},
   "source": [
    "## **Variables in match statements **"
   ]
  },
  {
   "cell_type": "code",
   "execution_count": 13,
   "metadata": {},
   "outputs": [
    {
     "name": "stdout",
     "output_type": "stream",
     "text": [
      "43\n"
     ]
    }
   ],
   "source": [
    "pos = (13, 43)\n",
    "\n",
    "match pos:\n",
    "    case (32, 5):\n",
    "        print('five')\n",
    "\n",
    "    case(13, y): \n",
    "        print(y)"
   ]
  },
  {
   "cell_type": "code",
   "execution_count": 16,
   "metadata": {},
   "outputs": [
    {
     "data": {
      "text/plain": [
       "5"
      ]
     },
     "execution_count": 16,
     "metadata": {},
     "output_type": "execute_result"
    }
   ],
   "source": [
    "a = 5\n",
    "\n",
    "if 0 >= a > -1:\n",
    "    speech = \"hello\"\n",
    "\n",
    "elif 0 or a:\n",
    "    speech = \"Goodbye\"\n",
    "\n",
    "else:\n",
    "    speech = \"what?\"\n",
    "\n",
    "a"
   ]
  },
  {
   "cell_type": "code",
   "execution_count": null,
   "metadata": {},
   "outputs": [],
   "source": []
  }
 ],
 "metadata": {
  "kernelspec": {
   "display_name": "trying2",
   "language": "python",
   "name": "python3"
  },
  "language_info": {
   "codemirror_mode": {
    "name": "ipython",
    "version": 3
   },
   "file_extension": ".py",
   "mimetype": "text/x-python",
   "name": "python",
   "nbconvert_exporter": "python",
   "pygments_lexer": "ipython3",
   "version": "3.11.2"
  }
 },
 "nbformat": 4,
 "nbformat_minor": 2
}
